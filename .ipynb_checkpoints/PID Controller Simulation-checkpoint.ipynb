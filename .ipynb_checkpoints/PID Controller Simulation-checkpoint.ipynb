{
 "cells": [
  {
   "cell_type": "markdown",
   "metadata": {},
   "source": [
    "# PID Controller Simulation\n",
    "## Let's play with PIDs\n",
    "We're going to take a look at simulating some PID control algorithms using the matplotlib library. Hopefully this document will be helpful for anyone else looking to experiment with PID algorithms. \n",
    "\n",
    "First, we'll import some libraries we'll be working with. You'll need to have these libraries installed in your workspace (I'm using a conda environment, but if you have jupyter installed, you should already have matplotlib). "
   ]
  },
  {
   "cell_type": "code",
   "execution_count": 1,
   "metadata": {
    "collapsed": true
   },
   "outputs": [],
   "source": [
    "import matplotlib\n",
    "# for plotting graphs\n",
    "import matplotlib.pyplot as plt\n",
    "# for plotting images\n",
    "import matplotlib.image as mpimg\n",
    "\n",
    "%matplotlib inline\n",
    "\n",
    "# for working with array-like data structures\n",
    "import numpy as np"
   ]
  },
  {
   "cell_type": "markdown",
   "metadata": {},
   "source": [
    "## PID Controller block diagram\n",
    "Below you'll see a block diagram for a full PID controller. We'll build our PID controller on block at a time, starting with the simplest case. (It's probably better just to open the file from the directory)"
   ]
  },
  {
   "cell_type": "code",
   "execution_count": 2,
   "metadata": {},
   "outputs": [
    {
     "data": {
      "image/png": "[encoded data removed]",
      "text/plain": [
       "<matplotlib.figure.Figure at 0x27735f42a90>"
      ]
     },
     "metadata": {},
     "output_type": "display_data"
    }
   ],
   "source": [
    "# Define our PID controller example image, read the file, and plot it.\n",
    "filename = 'pid_controller_example.png'\n",
    "\n",
    "image = mpimg.imread(filename)\n",
    "plt.imshow(image)\n",
    "plt.show()"
   ]
  },
  {
   "cell_type": "markdown",
   "metadata": {},
   "source": [
    "# P Controller\n",
    "We'll start with the simplest case: a controller that simply looks at the error present between a desired point (the set value SV) and where we're currently at (the present value, PV).\n",
    "\n",
    "This is written as a function, so we can play around with different values for Kp, and the time step."
   ]
  },
  {
   "cell_type": "code",
   "execution_count": 3,
   "metadata": {},
   "outputs": [],
   "source": [
    "def pController(pv_, sv_, Kp_, timeStep_):\n",
    "    # Let's say we have a temperature controller that's trying to freeze some ice cubes, but just barely. \n",
    "    # Our freezer is currently at room temperature (23 C), so we'll cool it by setting the temperature value to 0 C.\n",
    "\n",
    "    # Our initial present value (redundant, but for good reason) is stored in a list first, but we'll put it in a numpy\n",
    "    # array later\n",
    "    # We'll be adding values to this array for graphing reasons later as we run our controller. \n",
    "    pv = [pv_]\n",
    "    sv = sv_\n",
    "\n",
    "    # We'll set the value for how aggressive our P-Controller is here\n",
    "    Kp = Kp_\n",
    "\n",
    "    # We're only going to give our temperature controller a limited time frame, because we're going to plot this data\n",
    "    # First we determine what the time step of our simulation is going to be.\n",
    "    timeStep = timeStep_\n",
    "    # Then we determine the time interval we're interested in looking at (how long the sim runs). Assume seconds.\n",
    "    timeInterval = 10\n",
    "    # This means we'll have (timeInterval / timeStep) number of measurements to graph\n",
    "    totalTimeSteps = int(timeInterval/timeStep)\n",
    "\n",
    "    # Now we define a numpy array for storing our time sequences\n",
    "    # data = [listOfTime, listOfPV]\n",
    "    data = np.zeros((totalTimeSteps,2))\n",
    "\n",
    "    # Now we implement the proportional controller\n",
    "    # We'll loop through all the possible time steps in our time interval\n",
    "    for time in range(0,totalTimeSteps):\n",
    "        # Calculate the \"controller error\" at this time step.\n",
    "        controllerError = sv - pv[time]\n",
    "        # Now find the \"controller output\" \n",
    "        controllerOutput = Kp*controllerError\n",
    "        # In the simplest case, our controller makes the adjustment immediately. \n",
    "        pv.append(pv[time] + controllerOutput)\n",
    "        data[time,0] = time*timeStep\n",
    "        data[time, 1] = pv[time+1]\n",
    "\n",
    "    # print(data)\n",
    "\n",
    "    # Now we'll plot the data using plt.plot(xValues, yValues)\n",
    "    # Then call plt.show() to take a look\n",
    "    plt.plot(data[:,0],data[:,1])\n",
    "    plt.show()"
   ]
  },
  {
   "cell_type": "markdown",
   "metadata": {},
   "source": [
    "## Different Parameters, Different Results\n",
    "We'll try different parameters for our simulation and see what happens"
   ]
  },
  {
   "cell_type": "code",
   "execution_count": 4,
   "metadata": {},
   "outputs": [
    {
     "data": {
      "image/png": "[encoded data removed]",
      "text/plain": [
       "<matplotlib.figure.Figure at 0x27739006400>"
      ]
     },
     "metadata": {},
     "output_type": "display_data"
    }
   ],
   "source": [
    "# pController(pv_, sv_, Kp_, timeStep_)\n",
    "# We use Kp = 1 in this instance\n",
    "pController(23, 0, 1, 0.01)"
   ]
  },
  {
   "cell_type": "markdown",
   "metadata": {},
   "source": [
    "Our PID controller is instantly at temp. That's great, but pretty ideal. \n",
    "\n",
    "Let's see what happens when Kp = 1.8"
   ]
  },
  {
   "cell_type": "code",
   "execution_count": 5,
   "metadata": {},
   "outputs": [
    {
     "data": {
      "image/png": "[encoded data removed]",
      "text/plain": [
       "<matplotlib.figure.Figure at 0x277390612e8>"
      ]
     },
     "metadata": {},
     "output_type": "display_data"
    }
   ],
   "source": [
    "# pController(pv_, sv_, Kp_, timeStep_)\n",
    "# We use Kp = 1 in this instance\n",
    "pController(23, 0, 1.8, 0.01)"
   ]
  },
  {
   "cell_type": "markdown",
   "metadata": {},
   "source": [
    "We can see a small transient signal at the very beginning (maybe 300us?). \n",
    "What happens when our Kp value gets close to 2 (say, Kp=1.99)?"
   ]
  },
  {
   "cell_type": "code",
   "execution_count": 6,
   "metadata": {},
   "outputs": [
    {
     "data": {
      "image/png": "[encoded data removed]",
      "text/plain": [
       "<matplotlib.figure.Figure at 0x2773a0f6400>"
      ]
     },
     "metadata": {},
     "output_type": "display_data"
    }
   ],
   "source": [
    "# pController(pv_, sv_, Kp_, timeStep_)\n",
    "# We use Kp = 1 in this instance\n",
    "pController(23, 0, 1.99, 0.01)"
   ]
  },
  {
   "cell_type": "markdown",
   "metadata": {},
   "source": [
    "You can see that the pController spends a lot more time \"hunting\" for the proper set value, settling after about 4 seconds. What happens when Kp = 2? "
   ]
  },
  {
   "cell_type": "code",
   "execution_count": 7,
   "metadata": {},
   "outputs": [
    {
     "data": {
      "image/png": "[encoded data removed]",
      "text/plain": [
       "<matplotlib.figure.Figure at 0x2773a1d0080>"
      ]
     },
     "metadata": {},
     "output_type": "display_data"
    }
   ],
   "source": [
    "# pController(pv_, sv_, Kp_, timeStep_)\n",
    "# We use Kp = 1 in this instance\n",
    "pController(23, 0, 2, 0.01)"
   ]
  },
  {
   "cell_type": "markdown",
   "metadata": {},
   "source": [
    "Madness. Our pController isn't able to settle down to our set value, and instead spends the entire 10 seconds hunting for it. I haven't written the pController function to let us zoom in on a specific time interval for closer inspection, but feel free to do this yourself to investigate further!\n",
    "\n",
    "This might be in part to some error that accumulates over time intervals due to the discreteness of our simulation(there are other methods for minimizing error in simulations, like higher-order Runge-Kutta methods). But let's first take a look at when we have a variable set value (as happens in actual systems that need to move and do things). \n",
    "\n",
    "We'll redefine the pController method to act on a predetermined range of set values (contained in a list). This new method will only require the initial present value, and a value for our Kp. "
   ]
  },
  {
   "cell_type": "code",
   "execution_count": 8,
   "metadata": {
    "collapsed": true
   },
   "outputs": [],
   "source": [
    "def newPController(pv_, Kp_):\n",
    "    # Let's say we have a temperature controller that's trying to freeze some ice cubes, but just barely. \n",
    "    # Our freezer is currently at room temperature (23 C), so we'll cool it by setting the temperature value to 0 C.\n",
    "\n",
    "    # Our initial present value (redundant, but for good reason) is stored in a list first, but we'll put it in a numpy\n",
    "    # array later\n",
    "    # We'll be adding values to this array for graphing reasons later as we run our controller. \n",
    "    pv = [pv_]\n",
    "    sv = []\n",
    "    \n",
    "    # Our timeStep is 0.01 in a timeInterval of 10seconds, giving us 1,000 points to have a set value for\n",
    "    for i in range(0,1000):\n",
    "        sv.append(0)\n",
    "        \n",
    "    # We're going to place a jump for our set value back to 23 degrees at 2.5 seconds (the 249th point in the sv list)\n",
    "    # and have the temperature return back to 0 degrees around 7.5 seconds.\n",
    "    for i in range(249,750):\n",
    "        sv[i] = 23\n",
    "\n",
    "    # We'll set the value for how aggressive our P-Controller is here\n",
    "    Kp = Kp_\n",
    "\n",
    "    # We're only going to give our temperature controller a limited time frame, because we're going to plot this data\n",
    "    # First we determine what the time step of our simulation is going to be.\n",
    "    timeStep = 0.01\n",
    "    # Then we determine the time interval we're interested in looking at (how long the sim runs). Assume seconds.\n",
    "    timeInterval = 10\n",
    "    # This means we'll have (timeInterval / timeStep) number of measurements to graph\n",
    "    totalTimeSteps = int(timeInterval/timeStep)\n",
    "\n",
    "    # Now we define a numpy array for storing our time sequences\n",
    "    # data = [listOfTime, listOfPV]\n",
    "    data = np.zeros((totalTimeSteps,2))\n",
    "\n",
    "    # Now we implement the proportional controller\n",
    "    # We'll loop through all the possible time steps in our time interval\n",
    "    for time in range(0,totalTimeSteps):\n",
    "        # Calculate the \"controller error\" at this time step.\n",
    "        controllerError = sv[time] - pv[time]\n",
    "        # Now find the \"controller output\" \n",
    "        controllerOutput = Kp*controllerError\n",
    "        # In the simplest case, our controller makes the adjustment immediately. \n",
    "        pv.append(pv[time] + controllerOutput)\n",
    "        data[time,0] = time*timeStep\n",
    "        data[time, 1] = pv[time+1]\n",
    "\n",
    "    # print(data)\n",
    "\n",
    "    # Now we'll plot the data using plt.plot(xValues, yValues)\n",
    "    # Then call plt.show() to take a look\n",
    "    plt.plot(data[:,0],data[:,1])\n",
    "    plt.show()"
   ]
  },
  {
   "cell_type": "code",
   "execution_count": 9,
   "metadata": {},
   "outputs": [
    {
     "data": {
      "image/png": "[encoded data removed]",
      "text/plain": [
       "<matplotlib.figure.Figure at 0x2773a25fb38>"
      ]
     },
     "metadata": {},
     "output_type": "display_data"
    }
   ],
   "source": [
    "# Running our new function, we get (for Kp = 1.8)\n",
    "newPController(23,1.8)"
   ]
  },
  {
   "cell_type": "markdown",
   "metadata": {},
   "source": [
    "The results are similar -- for a large Kp value, we get massive spikes before our temperature settles to its desired point. This can be disastrous for control systems though, since we can accidentally go well under (or over) our desired setpoint, resulting in freeze-dried or boiled food!\n",
    "\n",
    "Let's try our pController with smalle Kp value. Like Kp = 0.8, 0.1, 0.01"
   ]
  },
  {
   "cell_type": "code",
   "execution_count": 10,
   "metadata": {},
   "outputs": [
    {
     "data": {
      "image/png": "[encoded data removed]",
      "text/plain": [
       "<matplotlib.figure.Figure at 0x2773b2cbcc0>"
      ]
     },
     "metadata": {},
     "output_type": "display_data"
    }
   ],
   "source": [
    "# Running the newPController with Kp = 0.8\n",
    "newPController(23,0.8)"
   ]
  },
  {
   "cell_type": "code",
   "execution_count": 11,
   "metadata": {},
   "outputs": [
    {
     "data": {
      "image/png": "[encoded data removed]",
      "text/plain": [
       "<matplotlib.figure.Figure at 0x2773b340ba8>"
      ]
     },
     "metadata": {},
     "output_type": "display_data"
    }
   ],
   "source": [
    "# Running the newPController with Kp = 0.5\n",
    "newPController(23,0.1)"
   ]
  },
  {
   "cell_type": "code",
   "execution_count": 12,
   "metadata": {},
   "outputs": [
    {
     "data": {
      "image/png": "[encoded data removed]",
      "text/plain": [
       "<matplotlib.figure.Figure at 0x2773b3d34a8>"
      ]
     },
     "metadata": {},
     "output_type": "display_data"
    }
   ],
   "source": [
    "# Running the newPController with Kp = 0.5\n",
    "newPController(23,0.01)"
   ]
  },
  {
   "cell_type": "markdown",
   "metadata": {},
   "source": [
    "You can see that for smaller values of Kp, it takes our controller longer to get the freezer to reach our set temperature. "
   ]
  },
  {
   "cell_type": "markdown",
   "metadata": {},
   "source": [
    "# PI Controller\n",
    "## Adding an integral term for better control. \n",
    "Now we're going to add an integrating term into our controller. An integral term essentially allows us to keep track of the error we've accumulated over a time interval (hence the integration). "
   ]
  },
  {
   "cell_type": "code",
   "execution_count": 13,
   "metadata": {
    "collapsed": true
   },
   "outputs": [],
   "source": [
    "## TODO \n",
    "## -> Figure out how to show the offset value that can occur with a PController in simulation\n",
    "## -> Write the simulation for the PI Controller\n",
    "## -> Compare the results of the P Controller with that of the PI Controller \n",
    "## -> Move on to PID Controller\n",
    "## -> Eventually get to topic of tuning P-I-D parameters for P,PI,PD,PID Controllers."
   ]
  },
  {
   "cell_type": "code",
   "execution_count": null,
   "metadata": {
    "collapsed": true
   },
   "outputs": [],
   "source": []
  }
 ],
 "metadata": {
  "kernelspec": {
   "display_name": "Python 3",
   "language": "python",
   "name": "python3"
  },
  "language_info": {
   "codemirror_mode": {
    "name": "ipython",
    "version": 3
   },
   "file_extension": ".py",
   "mimetype": "text/x-python",
   "name": "python",
   "nbconvert_exporter": "python",
   "pygments_lexer": "ipython3",
   "version": "3.6.3"
  }
 },
 "nbformat": 4,
 "nbformat_minor": 2
}
